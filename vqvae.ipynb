{
 "cells": [
  {
   "cell_type": "markdown",
   "metadata": {},
   "source": [
    "<img src=\"pic.png\" width=\"1000px\">"
   ]
  },
  {
   "cell_type": "code",
   "execution_count": 1,
   "metadata": {},
   "outputs": [],
   "source": [
    "import torch\n",
    "from torchvision import datasets, transforms\n",
    "from torch.utils.data import DataLoader\n",
    "import matplotlib.pyplot as plt\n",
    "import torchvision.transforms as transforms\n",
    "from sklearn.decomposition import PCA\n",
    "import torch.nn as nn\n",
    "from einops import rearrange\n",
    "from torchsummary import summary\n",
    "import torch.optim as optim\n",
    "import math\n",
    "from tqdm import tqdm\n",
    "import cv2\n",
    "import numpy as np\n",
    "from torch import Tensor"
   ]
  },
  {
   "cell_type": "code",
   "execution_count": 2,
   "metadata": {},
   "outputs": [],
   "source": [
    "device = torch.device(\"cuda\" if torch.cuda.is_available() else \"cpu\")\n",
    "device = torch.device('cpu') # TODO: Remove"
   ]
  },
  {
   "cell_type": "code",
   "execution_count": null,
   "metadata": {},
   "outputs": [],
   "source": []
  },
  {
   "cell_type": "code",
   "execution_count": 3,
   "metadata": {},
   "outputs": [],
   "source": [
    "def calculate_distances(x, y):\n",
    "    \"\"\"\n",
    "    Calculate the euclidean distance between tensors x and y\n",
    "    x,y dimensions are: (b, c, h, w)\n",
    "    \"\"\"\n",
    "    assert x.shape == y.shape, \"x and y must have the same shape\"\n",
    "    assert len(x.shape) == 4, \"x and y must have 4 dimensions\"\n",
    "    return torch.sqrt((x - y).pow(2).sum(dim=(1, 2, 3)))"
   ]
  },
  {
   "cell_type": "code",
   "execution_count": 4,
   "metadata": {},
   "outputs": [],
   "source": [
    "# Test calculate_distance with tensors of shape (b, c, h, w)\n",
    "x = torch.tensor([[1, 2, 3, 4, 5, 6, 7, 8], [9, 7, 6, 5, 4, 3, 2, 1]])\n",
    "y = torch.tensor([[1, 2, 3, 4, 5, 6, 7, 8], [8, 7, 6, 5, 4, 3, 2, 1]])\n",
    "x = rearrange(x, 'b (c h w) -> b c h w', c=2, h=2, w=2)\n",
    "y = rearrange(y, 'b (c h w) -> b c h w', c=2, h=2, w=2)\n",
    "distances = calculate_distances(x, y)\n",
    "assert distances[0] == 0\n",
    "assert distances[1] == 1"
   ]
  },
  {
   "cell_type": "code",
   "execution_count": 5,
   "metadata": {},
   "outputs": [],
   "source": [
    "class VectorQuantizedVariationalAutoencoder(nn.Module):\n",
    "    def __init__(self, input_dim, codebook_size, encoding_dim, hidden_dim):\n",
    "        \"\"\"\n",
    "        input_dim: dimension of input image: (c, h, w)\n",
    "        codebook_size: number of codebook vectors\n",
    "        encoding_dim: encodings dimension: (embedding_size, h, w)\n",
    "        hidden_dim: hidden dimension of the network, between FC layers\n",
    "        \"\"\"\n",
    "        super(VectorQuantizedVariationalAutoencoder, self).__init__()\n",
    "\n",
    "        assert len(input_dim) == 3, \"Input dimension must be 3D\"\n",
    "        assert len(encoding_dim) == 3, \"Encoding dimension must be 3D\"\n",
    "\n",
    "        self.input_dim = input_dim\n",
    "        self.codebook_size = codebook_size\n",
    "        self.encoding_dim = encoding_dim\n",
    "        self.hidden_dim = hidden_dim\n",
    "\n",
    "        # Unwrap input dimension\n",
    "        self._input_c = input_dim[0]\n",
    "        self._input_h = input_dim[1]\n",
    "        self._input_w = input_dim[2]\n",
    "        self._input_dim_flat = self._input_c * self._input_h * self._input_w\n",
    "\n",
    "        # Unwrap encoding dimension\n",
    "        self._embedding_dim = encoding_dim[0]\n",
    "        self._encoding_h = encoding_dim[1]\n",
    "        self._encoding_w = encoding_dim[2]\n",
    "\n",
    "        # Calculate flat encoding dimension\n",
    "        self._encoding_dim_flat = self._embedding_dim * self._encoding_h * self._encoding_w\n",
    "\n",
    "        # Setup components\n",
    "        self.__setup_encoder()\n",
    "        self.__setup_decoder()\n",
    "        self.__setup_codebook()\n",
    "    \n",
    "    def __setup_encoder(self):\n",
    "        self.enc_fc1 = nn.Linear(self._input_dim_flat, self.hidden_dim)\n",
    "        self.enc_fc2 = nn.Linear(self.hidden_dim, self._encoding_dim_flat)\n",
    "        self.relu = nn.ReLU()\n",
    "\n",
    "    def __setup_decoder(self):\n",
    "        self.dec_fc1 = nn.Linear(self._encoding_dim_flat, self.hidden_dim)\n",
    "        self.dec_fc2 = nn.Linear(self.hidden_dim, self._input_dim_flat)\n",
    "        self.sigmoid = nn.Sigmoid()\n",
    "\n",
    "    def __setup_codebook(self):\n",
    "        self.codebook = nn.Embedding(self.codebook_size, self._embedding_dim)\n",
    "        assert self.codebook.weight.requires_grad == True, \"Codebook should be learnable\"\n",
    "    \n",
    "    def encode(self, x):\n",
    "        assert x.shape[1:] == (self._input_c, self._input_h, self._input_w)\n",
    "\n",
    "        # Run the layers\n",
    "        x = rearrange(x, 'b c h w -> b (c h w)') # Flatten the input\n",
    "        x = self.relu(self.enc_fc1(x))\n",
    "        x = self.relu(self.enc_fc2(x))\n",
    "\n",
    "        # Unflatten, last dimension is embedding dim\n",
    "        x = rearrange(x, 'b (c h w) -> b h w c', c=self._embedding_dim, h=self._encoding_h, w=self._encoding_w)\n",
    "\n",
    "        return x\n",
    "    \n",
    "    def decode(self, z_q) -> Tensor:\n",
    "        \"\"\"\n",
    "        z_q: Quantized encodings of shape (b h w c)\n",
    "\n",
    "        Returns the reconstructed image x_hat of shape (b c h w)\n",
    "        \"\"\"\n",
    "        # Rearrange so we work on the values, also flatten because of fully-connected layers\n",
    "        z_q = rearrange(z_q, 'b h w c -> b (c h w)')\n",
    "\n",
    "        # Run the layers\n",
    "        x = self.relu(self.dec_fc1(z_q))\n",
    "        x = self.relu(self.dec_fc2(x))\n",
    "        x_hat = self.sigmoid(x)\n",
    "\n",
    "        # Rearrange back to image shape\n",
    "        x_hat = rearrange(x_hat, 'b (c h w) -> b c h w', c=self._input_c, h=self._input_h, w=self._input_w)\n",
    "\n",
    "        return x_hat\n",
    "    \n",
    "    def calculate_distances(self, z):\n",
    "        \"\"\"\n",
    "        Args:\n",
    "            z: Input tensor of shape (batch_size, dim_flat)\n",
    "        Returns:\n",
    "            distances: Tensor of shape (batch_size, height, width, num_embeddings)\n",
    "        \"\"\"\n",
    "        z = rearrange(z, 'b (c h w) -> (b h w) c', c=self._embedding_dim, h=self._encoding_h, w=self._encoding_w)\n",
    "\n",
    "        # Z shape: (128, 256)\n",
    "        # Codebook shape: (512, 256)\n",
    "\n",
    "        # For each of the 128 vectors in Z, we want to calculate the distance between the vector and all 512 codebook vectors\n",
    "        # ||z - e||^2 = ||z||^2 + ||e||^2 - 2 * <z,e>\n",
    "        z_norm_squared = torch.sum(z ** 2, dim=1, keepdim=True)\n",
    "        e_norm_squared = torch.sum(self.codebook.weight ** 2, dim=1)\n",
    "        inner_products = torch.matmul(z, self.codebook.weight.t())\n",
    "\n",
    "        # Distances is of shape (batch, embed_dim)\n",
    "        distances = z_norm_squared + e_norm_squared - 2 * inner_products\n",
    "        distances = rearrange(distances, '(b h w) c -> b h w c', b=z.shape[0] // (self._encoding_h * self._encoding_w), h=self._encoding_h, w=self._encoding_w)\n",
    "        return distances\n",
    "\n",
    "    def quantize(self, z):\n",
    "        \"\"\"\n",
    "        z_e: (batch_size, encoding_height, encoding_width, embedding_dim)\n",
    "\n",
    "        Get closest (euclidean distance) codebook vector z_q given z.\n",
    "\n",
    "        Returns quantized encodings z_q of shape (b h w c)\n",
    "        \"\"\"\n",
    "        assert z.shape[1:] == (self._encoding_h, self._encoding_w, self._embedding_dim)\n",
    "\n",
    "        flat_input = rearrange(z, 'b h w c -> (b h w) c')\n",
    "\n",
    "        # TODO: Replace this by my own distances calculation\n",
    "        # Equation: ||z - e||^2 = ||z||^2 + ||e||^2 - 2 * <z,e>\n",
    "        distances = (torch.sum(flat_input**2, dim=1, keepdim=True)\n",
    "            + torch.sum(self.codebook.weight**2, dim=1)\n",
    "            - 2 * torch.matmul(flat_input, self.codebook.weight.t()))\n",
    "        \n",
    "        #distances = self.calculate_distances(z)\n",
    "\n",
    "        # Distances is shape (batch, height, width, embed_dim)\n",
    "        # Get the index of the closest codebook vector\n",
    "        min_indices = torch.argmin(distances, dim=1)\n",
    "\n",
    "        # We now have matrix of one-hot vectors, with \"1\" at the index of the closest codebook vector, given by \"min_indices\"\n",
    "        one_hot = nn.functional.one_hot(min_indices, num_classes=self.codebook_size)\n",
    "\n",
    "        # Now to get the value of the closest codebook vector, we multiply the one-hot matrix with the codebook matrix\n",
    "        z_q = torch.matmul(one_hot.float(), self.codebook.weight)\n",
    "\n",
    "        # Reshape back\n",
    "        z_q = rearrange(z_q, '(b h w) c -> b h w c', b=z.shape[0], h=self._encoding_h, w=self._encoding_w)\n",
    "\n",
    "        return z_q\n",
    "\n",
    "    def forward(self, x):\n",
    "        assert x.shape[1:] == (self._input_c, self._input_h, self._input_w)\n",
    "\n",
    "        # Encode\n",
    "        z = self.encode(x)\n",
    "\n",
    "        # Quantize the latent vector\n",
    "        z_q = self.quantize(z)\n",
    "\n",
    "        # Add streight through estimator\n",
    "        z_q = z + (z_q - z).detach()\n",
    "        \n",
    "        # Decode\n",
    "        x_reconstructed = self.decode(z_q)\n",
    "\n",
    "        # The output image should have the same shape as the input image\n",
    "        assert x_reconstructed.shape == x.shape\n",
    "\n",
    "        # Return x hat (and also some other stuff for loss calculation and debugging)\n",
    "        return x_reconstructed, z, z_q"
   ]
  },
  {
   "cell_type": "markdown",
   "metadata": {},
   "source": [
    "# Quantization of z_e\n",
    "\n",
    "To quantisize the z_e we run `torch.norm()` which calculate length of vector.\n",
    "\n",
    "For instance if `a = torch.tensor([1, 1])` then the length of vector is `sqrt(1^2 + 1^2) = sqrt(2) = 1.4142`\n",
    "\n",
    "So we do: `torch.norm(z_e - codebook)` which means we measure distance between two vectors.\n",
    "\n",
    "Then we apply `argmin`: `torch.argmin(torch.norm(z_e - codebook))` to get the index of the closest vector in the codebook.\n",
    "\n",
    "Finally we get the quantized vector: `codebook[torch.argmin(torch.norm(z_e - codebook))]`"
   ]
  },
  {
   "cell_type": "code",
   "execution_count": null,
   "metadata": {},
   "outputs": [
    {
     "name": "stdout",
     "output_type": "stream",
     "text": [
      "Files already downloaded and verified\n",
      "Files already downloaded and verified\n"
     ]
    }
   ],
   "source": [
    "# Transformations\n",
    "# Note: normalizing the images to have values in the range [0, 1] is important for the calculation of BCE loss\n",
    "transform = transforms.Compose([\n",
    "    transforms.ToTensor(),\n",
    "    lambda x: (x - x.min()) / (x.max() - x.min()) # Normalize to [0, 1]\n",
    "])\n",
    "\n",
    "# Load dataset\n",
    "\n",
    "# MNIST\n",
    "# train_dataset = datasets.MNIST(root='./data', train=True, transform=transform, download=True)\n",
    "# test_dataset = datasets.MNIST(root='./data', train=False, transform=transform, download=True)\n",
    "\n",
    "# CIFAR-10\n",
    "train_dataset = datasets.CIFAR10(root=\"./data\", train=True, download=True, transform=transform)\n",
    "test_dataset = datasets.CIFAR10(root=\"./data\", train=False, download=True, transform=transform)\n",
    "\n",
    "# DataLoader\n",
    "batch_size = 256\n",
    "\n",
    "train_loader = DataLoader(train_dataset, batch_size=batch_size, shuffle=True)\n",
    "test_loader = DataLoader(test_dataset, batch_size=batch_size, shuffle=False)\n",
    "\n",
    "# Training\n",
    "num_epochs = 10\n",
    "\n",
    "# Model\n",
    "input_dim = (3, 32, 32)\n",
    "codebook_size = 512\n",
    "\n",
    "embedding_dim = 64 # Dimension of each codebook vector\n",
    "encoding_dim = (embedding_dim, 8, 8)\n",
    "\n",
    "hidden_dim = 1024\n",
    "\n",
    "model = VectorQuantizedVariationalAutoencoder(input_dim, codebook_size, encoding_dim, hidden_dim).to(device)\n",
    "\n",
    "# Optimizer\n",
    "lr = 1e-3\n",
    "optimizer = optim.Adam(model.parameters(), lr=lr)"
   ]
  },
  {
   "cell_type": "code",
   "execution_count": 7,
   "metadata": {},
   "outputs": [],
   "source": [
    "# # Test distances\n",
    "# codebook_size = 2\n",
    "# encoding_dim = (2, 1, 1)\n",
    "# hidden_dim = 1024\n",
    "# model = VectorQuantizedVariationalAutoencoder(input_dim, codebook_size, encoding_dim, hidden_dim).to(device)\n",
    "\n",
    "# # Set embeddings shape (1, 2)\n",
    "# model.codebook.weight.data = torch.tensor([[1, 2]]).float()\n",
    "# print(model.codebook.weight.shape)\n",
    "\n",
    "# # b = 1, c = 1, h = 1, w = 2\n",
    "# x = torch.tensor([\n",
    "#     [\n",
    "#         [\n",
    "#             [1, 2]\n",
    "#         ]\n",
    "#     ]]) \n",
    "# x = rearrange(x, '1 1 1 w -> 1 w')\n",
    "# print(x.shape)\n",
    "# distances = model.calculate_distances(x)\n",
    "\n",
    "# # Assert distance\n",
    "# assert distances[0, 0, 0, 0] == 0\n",
    "# assert distances[0, 0, 0, 1] == 8"
   ]
  },
  {
   "cell_type": "code",
   "execution_count": 8,
   "metadata": {},
   "outputs": [],
   "source": [
    "# summary(model, (1, 28, 28))"
   ]
  },
  {
   "cell_type": "code",
   "execution_count": 9,
   "metadata": {},
   "outputs": [],
   "source": [
    "beta = 0.25 # Scale factor for commitment loss\n",
    "\n",
    "def loss_function(x, x_hat, z_e, z_q):\n",
    "    \"\"\"\n",
    "    z_e: latent vector before quantization\n",
    "    z_q: latent vector after quantization\n",
    "    \"\"\"\n",
    "    # TODO: X must be between 0 and 1!\n",
    "    # Reconstruction loss\n",
    "    recon_loss = nn.BCELoss(reduction='sum')(x_hat, x)\n",
    "\n",
    "    # Quantization loss\n",
    "    quant_loss = nn.functional.mse_loss(z_q, z_e.detach())\n",
    "\n",
    "    # Commitment loss\n",
    "    commit_loss = nn.functional.mse_loss(z_q.detach(), z_e)\n",
    "\n",
    "    # Total loss\n",
    "    loss = recon_loss + quant_loss + beta * commit_loss\n",
    "\n",
    "    return loss, recon_loss, quant_loss, commit_loss"
   ]
  },
  {
   "cell_type": "code",
   "execution_count": 10,
   "metadata": {},
   "outputs": [],
   "source": [
    "def training_step(images, loss_history, recon_loss_history, quant_loss_history, commit_loss_history):\n",
    "    # Forward pass\n",
    "    x_hat, z_e, z_q = model(images)\n",
    "\n",
    "    # Calculate loss\n",
    "    loss, recon_loss, quant_loss, commit_loss = loss_function(images, x_hat, z_e, z_q)\n",
    "\n",
    "    # Add all three losses to history\n",
    "    loss_history.append(loss.item())\n",
    "    recon_loss_history.append(recon_loss.item())\n",
    "    quant_loss_history.append(quant_loss.item())\n",
    "    commit_loss_history.append(commit_loss.item())\n",
    "\n",
    "    return loss"
   ]
  },
  {
   "cell_type": "code",
   "execution_count": 11,
   "metadata": {},
   "outputs": [],
   "source": [
    "def train(num_epochs):\n",
    "    loss_history = []\n",
    "    quant_loss_history = []\n",
    "    recon_loss_history = []\n",
    "    commit_loss_history = []\n",
    "\n",
    "    for epoch in range(num_epochs):\n",
    "        model.train()\n",
    "\n",
    "        overall_loss = 0\n",
    "\n",
    "        # Use tqdm for progress tracking\n",
    "        with tqdm(train_loader, desc=f\"Epoch [{epoch+1}/{num_epochs}]\") as t:\n",
    "            for images, _ in t:\n",
    "                images = images.to(device)\n",
    "\n",
    "                assert images.min() >= 0 and images.max() <= 1, \"Images must be normalized to [0, 1]\"\n",
    "\n",
    "                # Zero gradients before performing a backward pass\n",
    "                optimizer.zero_grad() \n",
    "\n",
    "                # Perform a forward pass and calculate loss\n",
    "                loss = training_step(images, loss_history, recon_loss_history, quant_loss_history, commit_loss_history)\n",
    "\n",
    "                # Add loss to overall loss\n",
    "                overall_loss += loss.item()\n",
    "\n",
    "                # Propagate the loss backward\n",
    "                loss.backward() # Compute gradients (of KL + recon losses)\n",
    "                optimizer.step() # Adjust weights of the model\n",
    "\n",
    "        print(f\"Epoch [{epoch+1}/{num_epochs}], Recon Loss: {np.mean(recon_loss_history).item():.4f}, KL Loss: {np.mean(quant_loss_history).item():.4f}\")\n",
    "        print(\"Average loss: \", overall_loss / len(train_loader))"
   ]
  },
  {
   "cell_type": "code",
   "execution_count": 12,
   "metadata": {},
   "outputs": [
    {
     "name": "stderr",
     "output_type": "stream",
     "text": [
      "Epoch [1/5]: 100%|██████████| 196/196 [00:47<00:00,  4.13it/s]\n"
     ]
    },
    {
     "name": "stdout",
     "output_type": "stream",
     "text": [
      "Epoch [1/5], Recon Loss: 523617.5181, KL Loss: 0.7795\n",
      "Average loss:  523618.4915497449\n"
     ]
    },
    {
     "name": "stderr",
     "output_type": "stream",
     "text": [
      "Epoch [2/5]: 100%|██████████| 196/196 [00:48<00:00,  4.03it/s]\n"
     ]
    },
    {
     "name": "stdout",
     "output_type": "stream",
     "text": [
      "Epoch [2/5], Recon Loss: 518697.7290, KL Loss: 1.0311\n",
      "Average loss:  513779.5408163265\n"
     ]
    },
    {
     "name": "stderr",
     "output_type": "stream",
     "text": [
      "Epoch [3/5]: 100%|██████████| 196/196 [00:49<00:00,  3.93it/s]\n"
     ]
    },
    {
     "name": "stdout",
     "output_type": "stream",
     "text": [
      "Epoch [3/5], Recon Loss: 518412.3858, KL Loss: 16.7621\n",
      "Average loss:  517901.97895408166\n"
     ]
    },
    {
     "name": "stderr",
     "output_type": "stream",
     "text": [
      "Epoch [4/5]: 100%|██████████| 196/196 [00:52<00:00,  3.75it/s]\n"
     ]
    },
    {
     "name": "stdout",
     "output_type": "stream",
     "text": [
      "Epoch [4/5], Recon Loss: 519767.6125, KL Loss: 1923.0159\n",
      "Average loss:  533385.515226403\n"
     ]
    },
    {
     "name": "stderr",
     "output_type": "stream",
     "text": [
      "Epoch [5/5]: 100%|██████████| 196/196 [00:53<00:00,  3.69it/s]"
     ]
    },
    {
     "name": "stdout",
     "output_type": "stream",
     "text": [
      "Epoch [5/5], Recon Loss: 520742.3690, KL Loss: 23730.3357\n",
      "Average loss:  663340.9151785715\n"
     ]
    },
    {
     "name": "stderr",
     "output_type": "stream",
     "text": [
      "\n"
     ]
    }
   ],
   "source": [
    "print(\"Training on device: \", device)\n",
    "num_epochs = 5\n",
    "train(num_epochs)"
   ]
  },
  {
   "cell_type": "markdown",
   "metadata": {},
   "source": []
  },
  {
   "cell_type": "code",
   "execution_count": null,
   "metadata": {},
   "outputs": [
    {
     "name": "stdout",
     "output_type": "stream",
     "text": [
      "torch.Size([256, 3, 32, 32])\n",
      "torch.Size([8, 3, 32, 32])\n"
     ]
    },
    {
     "data": {
      "image/png": "[encoded data removed]",
      "text/plain": [
       "<Figure size 2000x500 with 16 Axes>"
      ]
     },
     "metadata": {},
     "output_type": "display_data"
    }
   ],
   "source": [
    "# Plot 8 images (original image) and to their right plot the reconstructed image\n",
    "model.eval()\n",
    "with torch.no_grad():\n",
    "    images, labels = next(iter(test_loader))\n",
    "    print(images.shape)\n",
    "    images = images[:8].to(device)\n",
    "\n",
    "    outputs, _, _ = model(images)\n",
    "\n",
    "    images = images.cpu()\n",
    "    outputs = outputs.cpu()\n",
    "\n",
    "    print(outputs.shape)\n",
    "\n",
    "    fig, axes = plt.subplots(2, 8, figsize=(20, 5))\n",
    "    for i in range(8):\n",
    "        # Change the order of the channels to (h, w, c) for matplotlib\n",
    "        axes[0, i].imshow(images[i].permute(1, 2, 0))\n",
    "        axes[0, i].axis('off')\n",
    "        # Add title for the image\n",
    "        axes[0, i].set_title(f\"{train_dataset.classes[labels[i]]}\")\n",
    "        axes[1, i].imshow(outputs[i].permute(1, 2, 0))\n",
    "        axes[1, i].axis('off')\n",
    "\n",
    "    plt.show()"
   ]
  }
 ],
 "metadata": {
  "kernelspec": {
   "display_name": "Python 3",
   "language": "python",
   "name": "python3"
  },
  "language_info": {
   "codemirror_mode": {
    "name": "ipython",
    "version": 3
   },
   "file_extension": ".py",
   "mimetype": "text/x-python",
   "name": "python",
   "nbconvert_exporter": "python",
   "pygments_lexer": "ipython3",
   "version": "3.12.7"
  }
 },
 "nbformat": 4,
 "nbformat_minor": 2
}
