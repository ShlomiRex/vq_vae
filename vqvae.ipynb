{
 "cells": [
  {
   "cell_type": "markdown",
   "metadata": {},
   "source": [
    "<img src=\"pic.png\" width=\"1000px\">"
   ]
  },
  {
   "cell_type": "code",
   "execution_count": 47,
   "metadata": {},
   "outputs": [],
   "source": [
    "import torch\n",
    "from torchvision import datasets, transforms\n",
    "from torch.utils.data import DataLoader\n",
    "import matplotlib.pyplot as plt\n",
    "import torchvision.transforms as transforms\n",
    "from sklearn.decomposition import PCA\n",
    "import torch.nn as nn\n",
    "from einops import rearrange\n",
    "from torchsummary import summary\n",
    "import torch.optim as optim\n",
    "import math\n",
    "from tqdm import tqdm\n",
    "import cv2\n",
    "import numpy as np"
   ]
  },
  {
   "cell_type": "code",
   "execution_count": 48,
   "metadata": {},
   "outputs": [],
   "source": [
    "device = torch.device(\"cuda\" if torch.cuda.is_available() else \"cpu\")"
   ]
  },
  {
   "cell_type": "code",
   "execution_count": null,
   "metadata": {},
   "outputs": [],
   "source": [
    "class VectorQuantizedVariationalAutoencoder(nn.Module):\n",
    "    def __init__(self, input_dim, hidden_dim, latent_dim, codebook_size):\n",
    "        \"\"\"\n",
    "        input_dim: c * h * w - dimension of input image, must be a square number\n",
    "        hidden_dim: h - hidden layer dimension\n",
    "        latent_dim: d - dimension of latent space - the vector depth\n",
    "        codebook_size: k - number of codebook vectors\n",
    "        \"\"\"\n",
    "        super(VectorQuantizedVariationalAutoencoder, self).__init__()\n",
    "        self.input_dim = input_dim\n",
    "        self.hidden_dim = hidden_dim\n",
    "        self.latent_dim = latent_dim\n",
    "        self.codebook_size = codebook_size\n",
    "\n",
    "        # Check if input_dim is a square number\n",
    "        assert math.sqrt(input_dim).is_integer(), \"Input dimension is not a square number\"\n",
    "\n",
    "        # Width, height must match\n",
    "        self.image_width = int(math.sqrt(input_dim))\n",
    "        self.image_height = int(math.sqrt(input_dim))\n",
    "\n",
    "        self.__setup_encoder()\n",
    "        self.__setup_decoder()\n",
    "        self.__setup_codebook()\n",
    "    \n",
    "    def __setup_encoder(self):\n",
    "        self.enc_fc1 = nn.Linear(self.input_dim, self.hidden_dim)\n",
    "        self.enc_fc2 = nn.Linear(self.hidden_dim, self.hidden_dim)\n",
    "\n",
    "        self.relu = nn.ReLU()\n",
    "\n",
    "        # Now we have two layers for each vector in latent space (going from hidden_dim to latent_dim)\n",
    "        self.fc_mu = nn.Linear(self.hidden_dim, self.latent_dim)  # Mean vector\n",
    "        self.fc_logvar = nn.Linear(self.hidden_dim, self.latent_dim)  # Log-variance vector\n",
    "\n",
    "    def __setup_decoder(self):\n",
    "        self.dec_fc1 = nn.Linear(self.latent_dim, self.hidden_dim)\n",
    "        self.dec_fc2 = nn.Linear(self.hidden_dim, self.hidden_dim)\n",
    "        self.dec_fc3 = nn.Linear(self.hidden_dim, self.input_dim)\n",
    "\n",
    "    def __setup_codebook(self):\n",
    "        # We don't map X to Y, the codebook is a list of vectors that we will learn (nn.Parameter)\n",
    "        # The codebook vectors are initialized randomly\n",
    "        self.codebook = nn.Parameter(torch.randn(self.codebook_size, self.latent_dim))\n",
    "\n",
    "        # Assert codebook shape - we have k vectors of size d\n",
    "        assert self.codebook.shape == (self.codebook_size, self.latent_dim)\n",
    "\n",
    "        # We also want to learn the codebook vectors\n",
    "        self.codebook.requires_grad = True\n",
    "    \n",
    "    def encode(self, x):\n",
    "        assert x.shape[-3:] == (1, self.image_width, self.image_height)\n",
    "\n",
    "        x = rearrange(x, 'b c h w -> b (c h w)') # Flatten the input\n",
    "        x = self.relu(self.enc_fc1(x))\n",
    "        x = self.relu(self.enc_fc2(x))\n",
    "\n",
    "        mean = self.fc_mu(x)\n",
    "        log_var = self.fc_logvar(x)\n",
    "\n",
    "        # Here we don't return x, we return mean and log_var, this is different to AE\n",
    "        return mean, log_var\n",
    "    \n",
    "    def decode(self, z_q):\n",
    "        # Assert shape of z_q (batch_size, latent_dim)\n",
    "        assert z_q.shape[-1] == self.latent_dim\n",
    "\n",
    "        # Run the layers\n",
    "        x = self.relu(self.dec_fc1(z_q))\n",
    "        x = self.relu(self.dec_fc2(x))\n",
    "        x_hat = torch.sigmoid(self.dec_fc3(x))\n",
    "\n",
    "        # Reshape the output, we now have c, h, w dimensions (spatial image) instead of flat vectors\n",
    "        x_hat = rearrange(x_hat, 'b (c h w) -> b c h w', c=1, h=self.image_width, w=self.image_height) \n",
    "\n",
    "        return x_hat\n",
    "    \n",
    "    def reparameterization(self, mean, var):\n",
    "        \"\"\"\n",
    "        Input: var is log_var**0.5\n",
    "        Variance is exponential of log_var. \n",
    "        \"\"\"\n",
    "        # Sampling epsilon is stochastic (random). We sample epsilon from normal distribution\n",
    "        epsilon = torch.randn_like(var).to(device)\n",
    "        z = mean + var * epsilon\n",
    "        return z\n",
    "\n",
    "    def quantize(self, z_e):\n",
    "        \"\"\"\n",
    "        z_e: (batch_size, latent_dim)\n",
    "\n",
    "        Get closest (euclidean distance) codebook vector z_q given z_e\n",
    "        \"\"\"\n",
    "        # Assert shape of z_e (batch, latent_dim)\n",
    "        assert z_e.shape[-1] == self.latent_dim\n",
    "\n",
    "        # Initialize z_q, here we will add the vectors one by one (after finding the closest one)\n",
    "        z_q = torch.zeros(z_e.shape).to(device)\n",
    "\n",
    "        # For each z_e latent vector (we have batch of latent vectors here, so we traverse in python loop instead) we want to find the closest codebook vector\n",
    "        for i in range(z_e.shape[0]):\n",
    "            # Calculate distance between z_e[batch_idx] and codebook vectors...\n",
    "            a = z_e[i] - self.codebook\n",
    "            assert a.shape == (self.codebook_size, self.latent_dim)\n",
    "\n",
    "            # Calculate norm to get distances between z_e[batch_idx] and ALL other codebook vectors (we have self.codebook_size vectors)\n",
    "            distances = torch.norm(a, dim=1)\n",
    "            assert distances.shape == (self.codebook_size,)\n",
    "            \n",
    "            # Get the index of the closest codebook vector\n",
    "            min_index = torch.argmin(distances).item()\n",
    "\n",
    "            # Now we have the index of the closest codebook vector, get the representation vector\n",
    "            z_q_i = self.codebook[min_index]\n",
    "\n",
    "            # Add the closest codebook vector to z_q\n",
    "            z_q[i] = z_q_i\n",
    "\n",
    "        # Assert shape of z_q (batch_size, latent_dim)\n",
    "        assert z_q.shape == z_e.shape\n",
    "\n",
    "        return z_q\n",
    "\n",
    "    def forward(self, x):\n",
    "        assert x.shape[-3:] == (1, self.image_width, self.image_height)\n",
    "\n",
    "        # Encode - instead of latent vector we get mean and log_var and we use the reparameterization trick\n",
    "        mean, log_var = self.encode(x)\n",
    "\n",
    "        # Here is the magic of VAE\n",
    "        z_e = self.reparameterization(mean, torch.exp(0.5 * log_var))\n",
    "\n",
    "        # Quantize the latent vector\n",
    "        z_q = self.quantize(z_e)\n",
    "        \n",
    "        # Decode\n",
    "        x_reconstructed = self.decode(z_q)\n",
    "\n",
    "        # The output image should have the same shape as the input image\n",
    "        assert x_reconstructed.shape == x.shape\n",
    "\n",
    "        # Return x hat (and also some other stuff for loss calculation and debugging)\n",
    "        return x_reconstructed, mean, log_var, z_e, z_q"
   ]
  },
  {
   "cell_type": "markdown",
   "metadata": {},
   "source": [
    "# Quantization of z_e\n",
    "\n",
    "To quantisize the z_e we run `torch.norm()` which calculate length of vector.\n",
    "\n",
    "For instance if `a = torch.tensor([1, 1])` then the length of vector is `sqrt(1^2 + 1^2) = sqrt(2) = 1.4142`\n",
    "\n",
    "So we do: `torch.norm(z_e - codebook)` which means we measure distance between two vectors.\n",
    "\n",
    "Then we apply `argmin`: `torch.argmin(torch.norm(z_e - codebook))` to get the index of the closest vector in the codebook.\n",
    "\n",
    "Finally we get the quantized vector: `codebook[torch.argmin(torch.norm(z_e - codebook))]`"
   ]
  },
  {
   "cell_type": "code",
   "execution_count": 50,
   "metadata": {},
   "outputs": [],
   "source": [
    "# Transformations\n",
    "transform = transforms.Compose([transforms.ToTensor()])\n",
    "\n",
    "# Load dataset\n",
    "train_dataset = datasets.MNIST(root='./data', train=True, transform=transform, download=True)\n",
    "test_dataset = datasets.MNIST(root='./data', train=False, transform=transform, download=True)\n",
    "\n",
    "# DataLoader\n",
    "batch_size = 64\n",
    "\n",
    "train_loader = DataLoader(train_dataset, batch_size=batch_size, shuffle=True)\n",
    "test_loader = DataLoader(test_dataset, batch_size=batch_size, shuffle=False)\n",
    "\n",
    "# Training\n",
    "num_epochs = 10\n",
    "\n",
    "# Model\n",
    "input_dim = 1* 28 * 28\n",
    "hidden_dim = 512\n",
    "latent_dim = 200\n",
    "codebook_size = 512\n",
    "\n",
    "model = VectorQuantizedVariationalAutoencoder(input_dim, hidden_dim, latent_dim, codebook_size).to(device)\n",
    "\n",
    "# Optimizer\n",
    "lr = 1e-3\n",
    "optimizer = optim.Adam(model.parameters(), lr=lr)"
   ]
  },
  {
   "cell_type": "code",
   "execution_count": 58,
   "metadata": {},
   "outputs": [
    {
     "name": "stdout",
     "output_type": "stream",
     "text": [
      "----------------------------------------------------------------\n",
      "        Layer (type)               Output Shape         Param #\n",
      "================================================================\n",
      "            Linear-1                  [-1, 512]         401,920\n",
      "              ReLU-2                  [-1, 512]               0\n",
      "            Linear-3                  [-1, 512]         262,656\n",
      "              ReLU-4                  [-1, 512]               0\n",
      "            Linear-5                  [-1, 200]         102,600\n",
      "            Linear-6                  [-1, 200]         102,600\n",
      "            Linear-7                  [-1, 512]         102,912\n",
      "              ReLU-8                  [-1, 512]               0\n",
      "            Linear-9                  [-1, 512]         262,656\n",
      "             ReLU-10                  [-1, 512]               0\n",
      "           Linear-11                  [-1, 784]         402,192\n",
      "================================================================\n",
      "Total params: 1,637,536\n",
      "Trainable params: 1,637,536\n",
      "Non-trainable params: 0\n",
      "----------------------------------------------------------------\n",
      "Input size (MB): 0.00\n",
      "Forward/backward pass size (MB): 0.04\n",
      "Params size (MB): 6.25\n",
      "Estimated Total Size (MB): 6.29\n",
      "----------------------------------------------------------------\n"
     ]
    }
   ],
   "source": [
    "summary(model, (1, 28, 28))"
   ]
  },
  {
   "cell_type": "code",
   "execution_count": null,
   "metadata": {},
   "outputs": [],
   "source": [
    "def loss_function(x, x_hat, mean, log_var):\n",
    "    # Reconstruction loss\n",
    "    recon_loss = nn.BCELoss(reduction='sum')(x_hat, x)\n",
    "\n",
    "    # KL divergence loss\n",
    "    kl_loss = -0.5 * torch.sum(1 + log_var - mean.pow(2) - log_var.exp())\n",
    "\n",
    "    return recon_loss + kl_loss, recon_loss, kl_loss"
   ]
  },
  {
   "cell_type": "code",
   "execution_count": 52,
   "metadata": {},
   "outputs": [],
   "source": [
    "def training_step(images, loss_history, recon_loss_history, kl_divergence_history):\n",
    "    # Forward pass\n",
    "    x_hat, mean, log_var, z_e, z_q = model(images)\n",
    "\n",
    "    # Calculate loss\n",
    "    loss, recon_loss, kl_loss = loss_function(images, x_hat, mean, log_var)\n",
    "\n",
    "    # Add all three losses to history\n",
    "    loss_history.append(loss.item())\n",
    "    recon_loss_history.append(recon_loss.item())\n",
    "    kl_divergence_history.append(kl_loss.item())\n",
    "\n",
    "    return loss"
   ]
  },
  {
   "cell_type": "code",
   "execution_count": 53,
   "metadata": {},
   "outputs": [],
   "source": [
    "def train(num_epochs):\n",
    "    loss_history = []\n",
    "    kl_divergence_history = []\n",
    "    recon_loss_history = []\n",
    "\n",
    "    for epoch in range(num_epochs):\n",
    "        model.train()\n",
    "\n",
    "        overall_loss = 0\n",
    "\n",
    "        # Use tqdm for progress tracking\n",
    "        with tqdm(train_loader, desc=f\"Epoch [{epoch+1}/{num_epochs}]\") as t:\n",
    "            for images, _ in t:\n",
    "                images = images.to(device)\n",
    "\n",
    "                # Zero gradients before performing a backward pass\n",
    "                optimizer.zero_grad() \n",
    "\n",
    "                # Perform a forward pass and calculate loss\n",
    "                loss = training_step(images, loss_history, recon_loss_history, kl_divergence_history)\n",
    "\n",
    "                # Add loss to overall loss\n",
    "                overall_loss += loss.item()\n",
    "\n",
    "                # Propagate the loss backward\n",
    "                loss.backward() # Compute gradients (of KL + recon losses)\n",
    "                optimizer.step() # Adjust weights of the model\n",
    "\n",
    "        print(f\"Epoch [{epoch+1}/{num_epochs}], Recon Loss: {np.mean(recon_loss_history).item():.4f}, KL Loss: {np.mean(kl_divergence_history).item():.4f}\")\n",
    "        print(\"Average loss: \", overall_loss / len(train_loader))"
   ]
  },
  {
   "cell_type": "code",
   "execution_count": 54,
   "metadata": {},
   "outputs": [
    {
     "name": "stderr",
     "output_type": "stream",
     "text": [
      "Epoch [1/5]: 100%|██████████| 938/938 [00:28<00:00, 32.74it/s]\n"
     ]
    },
    {
     "name": "stdout",
     "output_type": "stream",
     "text": [
      "Epoch [1/5], Recon Loss: 13430.5064, KL Loss: 0.0385\n",
      "Average loss:  13430.54487450443\n"
     ]
    },
    {
     "name": "stderr",
     "output_type": "stream",
     "text": [
      "Epoch [2/5]: 100%|██████████| 938/938 [00:27<00:00, 33.88it/s]\n"
     ]
    },
    {
     "name": "stdout",
     "output_type": "stream",
     "text": [
      "Epoch [2/5], Recon Loss: 13346.3858, KL Loss: 0.0193\n",
      "Average loss:  13262.2651596232\n"
     ]
    },
    {
     "name": "stderr",
     "output_type": "stream",
     "text": [
      "Epoch [3/5]: 100%|██████████| 938/938 [00:27<00:00, 33.79it/s]\n"
     ]
    },
    {
     "name": "stdout",
     "output_type": "stream",
     "text": [
      "Epoch [3/5], Recon Loss: 13310.2158, KL Loss: 0.0129\n",
      "Average loss:  13237.875842779684\n"
     ]
    },
    {
     "name": "stderr",
     "output_type": "stream",
     "text": [
      "Epoch [4/5]: 100%|██████████| 938/938 [00:28<00:00, 33.09it/s]\n"
     ]
    },
    {
     "name": "stdout",
     "output_type": "stream",
     "text": [
      "Epoch [4/5], Recon Loss: 13288.5686, KL Loss: 0.0097\n",
      "Average loss:  13223.627032770022\n"
     ]
    },
    {
     "name": "stderr",
     "output_type": "stream",
     "text": [
      "Epoch [5/5]: 100%|██████████| 938/938 [00:29<00:00, 31.37it/s]"
     ]
    },
    {
     "name": "stdout",
     "output_type": "stream",
     "text": [
      "Epoch [5/5], Recon Loss: 13272.9397, KL Loss: 0.0078\n",
      "Average loss:  13210.424223747335\n"
     ]
    },
    {
     "name": "stderr",
     "output_type": "stream",
     "text": [
      "\n"
     ]
    }
   ],
   "source": [
    "num_epochs = 5\n",
    "train(num_epochs)"
   ]
  },
  {
   "cell_type": "code",
   "execution_count": 55,
   "metadata": {},
   "outputs": [],
   "source": [
    "# Save the model\n",
    "torch.save(model, \"without_ste.pth\")"
   ]
  },
  {
   "cell_type": "code",
   "execution_count": 56,
   "metadata": {},
   "outputs": [
    {
     "name": "stdout",
     "output_type": "stream",
     "text": [
      "torch.Size([8, 1, 28, 28])\n"
     ]
    },
    {
     "data": {
      "image/png": "[encoded data removed]",
      "text/plain": [
       "<Figure size 2000x500 with 16 Axes>"
      ]
     },
     "metadata": {},
     "output_type": "display_data"
    }
   ],
   "source": [
    "# Plot 8 images (original image) and to their right plot the reconstructed image\n",
    "model.eval()\n",
    "with torch.no_grad():\n",
    "    images, _ = next(iter(test_loader))\n",
    "    images = images[:8].to(device)\n",
    "\n",
    "    outputs, _, _, _, _ = model(images)\n",
    "\n",
    "    images = images.cpu()\n",
    "    outputs = outputs.cpu()\n",
    "\n",
    "    print(outputs.shape)\n",
    "\n",
    "    fig, axes = plt.subplots(2, 8, figsize=(20, 5))\n",
    "    for i in range(8):\n",
    "        axes[0, i].imshow(images[i].view(28, 28), cmap='gray')\n",
    "        axes[0, i].axis('off')\n",
    "        axes[1, i].imshow(outputs[i].view(28, 28), cmap='gray')\n",
    "        axes[1, i].axis('off')\n",
    "\n",
    "    plt.show()"
   ]
  },
  {
   "cell_type": "code",
   "execution_count": 57,
   "metadata": {},
   "outputs": [
    {
     "ename": "NameError",
     "evalue": "name 'z_e' is not defined",
     "output_type": "error",
     "traceback": [
      "\u001b[1;31m---------------------------------------------------------------------------\u001b[0m",
      "\u001b[1;31mNameError\u001b[0m                                 Traceback (most recent call last)",
      "Cell \u001b[1;32mIn[57], line 1\u001b[0m\n\u001b[1;32m----> 1\u001b[0m \u001b[43mz_e\u001b[49m\u001b[38;5;241m.\u001b[39mrequires_grad\n",
      "\u001b[1;31mNameError\u001b[0m: name 'z_e' is not defined"
     ]
    }
   ],
   "source": [
    "z_e.requires_grad"
   ]
  }
 ],
 "metadata": {
  "kernelspec": {
   "display_name": "Python 3",
   "language": "python",
   "name": "python3"
  },
  "language_info": {
   "codemirror_mode": {
    "name": "ipython",
    "version": 3
   },
   "file_extension": ".py",
   "mimetype": "text/x-python",
   "name": "python",
   "nbconvert_exporter": "python",
   "pygments_lexer": "ipython3",
   "version": "3.12.7"
  }
 },
 "nbformat": 4,
 "nbformat_minor": 2
}
